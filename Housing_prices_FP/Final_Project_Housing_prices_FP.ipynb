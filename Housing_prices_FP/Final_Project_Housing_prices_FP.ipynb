{
 "cells": [
  {
   "cell_type": "markdown",
   "metadata": {},
   "source": [
    "## Housing Prices"
   ]
  },
  {
   "cell_type": "markdown",
   "metadata": {},
   "source": [
    "### 1. Setup"
   ]
  },
  {
   "cell_type": "code",
   "execution_count": 1,
   "metadata": {},
   "outputs": [],
   "source": [
    "import numpy as np\n",
    "import pandas as pd\n",
    "import matplotlib.pyplot as plt\n",
    "import seaborn as sns\n",
    "\n",
    "import os\n",
    "\n",
    "from scipy import stats\n",
    "from scipy.stats import norm\n",
    "from scipy.stats import pointbiserialr\n",
    "from scipy.stats import f_oneway\n",
    "\n",
    "from statsmodels.stats.outliers_influence import variance_inflation_factor\n",
    "\n",
    "from sklearn.metrics import mean_squared_error, mean_absolute_error\n",
    "\n",
    "from sklearn.model_selection import train_test_split\n",
    "\n",
    "from sklearn.preprocessing import OneHotEncoder, LabelEncoder\n",
    "from sklearn.preprocessing import KBinsDiscretizer\n",
    "from sklearn.preprocessing import StandardScaler\n",
    "\n",
    "from lightgbm import LGBMRegressor"
   ]
  },
  {
   "cell_type": "markdown",
   "metadata": {},
   "source": [
    "### 2. Import Data"
   ]
  },
  {
   "cell_type": "code",
   "execution_count": 2,
   "metadata": {},
   "outputs": [],
   "source": [
    "dir = os.getcwd()\n",
    "train_data = pd.read_csv(os.path.join(dir,'input', 'train.csv'))\n",
    "test_data = pd.read_csv(os.path.join(dir,'input', 'test.csv'))"
   ]
  },
  {
   "cell_type": "markdown",
   "metadata": {},
   "source": [
    "### 3. Exploratory Data Analysis (EDA)"
   ]
  },
  {
   "cell_type": "code",
   "execution_count": 3,
   "metadata": {},
   "outputs": [],
   "source": [
    "def basic_eda_info (df, name='DataFrame'):\n",
    "\n",
    "    print(f'=== {name}: Basic Information ===')\n",
    "    print(f'Shape: {df.shape}')\n",
    "\n",
    "    print('='*60)\n",
    "    print('=== Head of DataFrame ===')\n",
    "    display(df.head())\n",
    "\n",
    "    with pd.option_context('display.float_format', '{:,.2f}'.format):\n",
    "        print('=== Numeric Describe ===')\n",
    "        display(df.describe())\n",
    "    \n",
    "    print('='*60)\n",
    "    print('=== Missing Values ===')\n",
    "    missing_values = df.isna().sum()\n",
    "    missing_values = missing_values[missing_values != 0]\n",
    "    missing_values = missing_values.sort_values(ascending=False)\n",
    "    print(missing_values)\n",
    "    print('=' * 60)"
   ]
  },
  {
   "cell_type": "code",
   "execution_count": 4,
   "metadata": {},
   "outputs": [],
   "source": [
    "def correlation_analysis_type(X, y, task=\"classification\", numeric_cols=None, threshold=0.5, graphic='yes'):\n",
    "    \"\"\"\n",
    "    Function to analyze correlations based on the task (classification or regression)\n",
    "    and plot a heatmap of correlations.\n",
    "\n",
    "    Returns:\n",
    "    - Displays a heatmap of correlations for the specified task.\n",
    "    - The correlation matrix.\n",
    "    \"\"\"\n",
    "    if numeric_cols is None:\n",
    "        numeric_cols = X.select_dtypes(include=[np.number]).columns.tolist()\n",
    "\n",
    "    if task == \"classification\":\n",
    "        if pd.Series(y).nunique() > 2:\n",
    "            raise ValueError(\"For classification, the target variable (y) must be binary (e.g., 0 or 1).\")\n",
    "\n",
    "        correlations = {}\n",
    "        for col in numeric_cols:\n",
    "            corr, _ = pointbiserialr(y, X[col])\n",
    "            correlations[col] = corr\n",
    "        \n",
    "        # Convert to DataFrame for visualization\n",
    "        corr_df = pd.DataFrame.from_dict(correlations, orient='index', columns=['Correlation'])\n",
    "        corr_df = corr_df.sort_values(by='Correlation', ascending=False)\n",
    "\n",
    "        if graphic == 'yes':\n",
    "            # Plot heatmap\n",
    "            plt.figure(figsize=(6, 4))\n",
    "            sns.heatmap(corr_df, annot=True, cmap='coolwarm', cbar=False, fmt='.2f')\n",
    "            plt.title('Point-Biserial Correlation Heatmap (Classification)')\n",
    "            plt.show()\n",
    "\n",
    "        return corr_df\n",
    "\n",
    "    elif task == \"regression\":\n",
    "        # Combine X and y temporarily for correlation calculation\n",
    "        combined_df = X[numeric_cols].copy()\n",
    "        combined_df[\"Target\"] = y\n",
    "\n",
    "        # Compute correlation matrix\n",
    "        corr_df = combined_df.corr()\n",
    "        filtered_corr = corr_df[((corr_df > threshold) | (corr_df < -threshold)) & (corr_df != 1) & (corr_df != -1)]\n",
    "        filtered_corr = filtered_corr.dropna(axis=0, how='all') #drop NaN rows\n",
    "        filtered_corr = filtered_corr.dropna(axis=1, how='all') #drop NaN columns\n",
    "        \n",
    "        if graphic == 'yes': \n",
    "            # Plot heatmap\n",
    "            plt.figure(figsize=(20, 10))\n",
    "            # sns.heatmap(corr_df, annot=True, cmap='coolwarm', fmt='.2f')\n",
    "            sns.heatmap(filtered_corr, annot=True, cmap='coolwarm', fmt='.2f')\n",
    "            plt.title('Correlation Heatmap (Regression)')\n",
    "            plt.show()\n",
    "\n",
    "        return filtered_corr\n",
    "    \n",
    "    else:\n",
    "        raise ValueError(\"Invalid task. Please choose 'classification' or 'regression'.\")\n",
    "    \n",
    "# If two variables are highly correlated (GarageCars & GarageArea), consider keeping the one with:\n",
    "# Stronger correlation to the target variable.\n",
    "# More interpretability or importance in your domain knowledge.\n",
    "# Or, consider combining them into a single feature like GarageSize (GC*GA)"
   ]
  },
  {
   "cell_type": "code",
   "execution_count": 5,
   "metadata": {},
   "outputs": [],
   "source": [
    "def categorical_continuous_analysis(df, target, p_threshold=0.05, std_multiplier=0.15):\n",
    "    results = {}\n",
    "    cat_cols = df.select_dtypes(include='object').columns\n",
    "    target_std = df[target].std()\n",
    "    std_threshold = target_std * std_multiplier\n",
    "    \n",
    "    for col in cat_cols:\n",
    "        groups = [df[df[col] == val][target].dropna() for val in df[col].dropna().unique()]\n",
    "        \n",
    "        # Skip if there's only one group\n",
    "        if len(groups) <= 1:\n",
    "            continue\n",
    "        \n",
    "        try:\n",
    "            # ANOVA F-test\n",
    "            f_val, p_val = f_oneway(*groups)\n",
    "        except:\n",
    "            f_val, p_val = float('nan'), float('nan')\n",
    "        \n",
    "        # Mean encoding analysis\n",
    "        mean_per_cat = df.groupby(col)[target].mean()\n",
    "        std_dev = mean_per_cat.std()\n",
    "        mean_range = mean_per_cat.max() - mean_per_cat.min()\n",
    "        \n",
    "        # Decision criteria\n",
    "        keep = \"Yes\" if (p_val < p_threshold and std_dev > std_threshold) else \"No\"\n",
    "\n",
    "        results[col] = {\n",
    "            'F-statistic': f_val,\n",
    "            'P-Value': p_val,\n",
    "            'Mean STD': std_dev,\n",
    "            'Mean Range': mean_range,\n",
    "            'Keep': keep\n",
    "        }\n",
    "\n",
    "    return pd.DataFrame(results).T.sort_values(by='Keep', ascending=False)\n",
    "\n",
    "# In many real estate datasets (like Ames Housing or similar):\n",
    "# SalePrice usually ranges from $50,000 to $500,000+.\n",
    "# A standard deviation of $10,000+ in group means implies:\n",
    "# Price varies quite a bit between categories.\n",
    "# The categorical variable likely captures useful structure in price (e.g., Neighborhood, HouseStyle)."
   ]
  },
  {
   "cell_type": "code",
   "execution_count": 6,
   "metadata": {},
   "outputs": [],
   "source": [
    "def y_distribution(y):\n",
    "    # Plot the histogram with Kernel Density Estimate (KDE)\n",
    "    sns.histplot(y, kde=True, stat='density', label=\"Data\")\n",
    "    \n",
    "    # Overlay the normal distribution curve using Seaborn\n",
    "    sns.kdeplot(y, label=\"Normal Fit\", color='red', linestyle=\"--\")\n",
    "    \n",
    "    # Add titles and legend\n",
    "    plt.title(\"Distribution of y with Normal Fit\")\n",
    "    plt.legend()\n",
    "    plt.show()\n",
    "\n",
    "    # Q-Q plot for normality assessment\n",
    "    stats.probplot(y, plot=plt)\n",
    "    plt.title(\"Q-Q Plot of y\")\n",
    "    plt.show()"
   ]
  },
  {
   "cell_type": "code",
   "execution_count": null,
   "metadata": {},
   "outputs": [],
   "source": []
  },
  {
   "cell_type": "markdown",
   "metadata": {},
   "source": [
    "### 4. Practice Dataset - EDA"
   ]
  },
  {
   "cell_type": "code",
   "execution_count": 7,
   "metadata": {},
   "outputs": [
    {
     "data": {
      "image/png": "[encoded data removed]",
      "text/plain": [
       "<Figure size 640x480 with 1 Axes>"
      ]
     },
     "metadata": {},
     "output_type": "display_data"
    },
    {
     "data": {
      "image/png": "[encoded data removed]",
      "text/plain": [
       "<Figure size 640x480 with 1 Axes>"
      ]
     },
     "metadata": {},
     "output_type": "display_data"
    }
   ],
   "source": [
    "y_distribution(train_data['SalePrice'])\n",
    "\n",
    "# Ok, 'SalePrice' is not normal. It shows positive skewness and does not follow the diagonal line.\n",
    "# A simple data transformation can solve the problem.\n",
    "# In case of positive skewness, log transformations usually works well."
   ]
  },
  {
   "cell_type": "code",
   "execution_count": 8,
   "metadata": {},
   "outputs": [],
   "source": [
    "# basic_eda_info(train_data)"
   ]
  },
  {
   "cell_type": "code",
   "execution_count": 9,
   "metadata": {},
   "outputs": [],
   "source": [
    "# categorical_results = categorical_discrete_analysis(train_data, 'SalePrice',chi2_threshold=0.05)\n",
    "# categorical_to_select = list(categorical_results.loc[categorical_results.Keep == \"Yes\"].index)\n",
    "# categorical_to_select\n",
    "# categorical_results"
   ]
  },
  {
   "cell_type": "code",
   "execution_count": 10,
   "metadata": {},
   "outputs": [],
   "source": [
    "categorical_results = categorical_continuous_analysis(train_data, 'SalePrice')\n",
    "# categorical_results"
   ]
  },
  {
   "cell_type": "code",
   "execution_count": 11,
   "metadata": {},
   "outputs": [
    {
     "ename": "NameError",
     "evalue": "name 'missing_data' is not defined",
     "output_type": "error",
     "traceback": [
      "\u001b[1;31m---------------------------------------------------------------------------\u001b[0m",
      "\u001b[1;31mNameError\u001b[0m                                 Traceback (most recent call last)",
      "Cell \u001b[1;32mIn[11], line 2\u001b[0m\n\u001b[0;32m      1\u001b[0m categorical_to_select \u001b[38;5;241m=\u001b[39m \u001b[38;5;28mlist\u001b[39m(categorical_results\u001b[38;5;241m.\u001b[39mloc[categorical_results\u001b[38;5;241m.\u001b[39mKeep \u001b[38;5;241m==\u001b[39m \u001b[38;5;124m\"\u001b[39m\u001b[38;5;124mYes\u001b[39m\u001b[38;5;124m\"\u001b[39m]\u001b[38;5;241m.\u001b[39mindex)\n\u001b[1;32m----> 2\u001b[0m \u001b[43mmissing_data\u001b[49m(train_data[categorical_to_select])\n\u001b[0;32m      3\u001b[0m \u001b[38;5;66;03m# missing_data(test_data[categorical_to_select])\u001b[39;00m\n",
      "\u001b[1;31mNameError\u001b[0m: name 'missing_data' is not defined"
     ]
    }
   ],
   "source": [
    "categorical_to_select = list(categorical_results.loc[categorical_results.Keep == \"Yes\"].index)\n",
    "missing_data(train_data[categorical_to_select])\n",
    "# missing_data(test_data[categorical_to_select])"
   ]
  },
  {
   "cell_type": "code",
   "execution_count": null,
   "metadata": {},
   "outputs": [],
   "source": []
  },
  {
   "cell_type": "markdown",
   "metadata": {},
   "source": [
    "### 5. Data Cleaning"
   ]
  },
  {
   "cell_type": "markdown",
   "metadata": {},
   "source": [
    "#### 5.1 Missing data"
   ]
  },
  {
   "cell_type": "code",
   "execution_count": 12,
   "metadata": {},
   "outputs": [],
   "source": [
    "def missing_data(df, threshold = 0.5):\n",
    "    print(\" \" * 50)\n",
    "    print(f\"Missing in df:\")\n",
    "    print(\".\" * 50)\n",
    "    \n",
    "    missing_values = df.isna().sum()\n",
    "    missing_values = missing_values[missing_values != 0]  # Filter out columns with no missing values\n",
    "    # missing_values = missing_values.sort_values(ascending=False)\n",
    "    \n",
    "    total_rows = len(df)\n",
    "    missing_percent = ((missing_values / total_rows) * 100).round(2)  # Percentage of missing values\n",
    "    analysis = [\"Delete\" if percent > threshold*100 else \"Keep\" for percent in missing_percent]\n",
    "\n",
    "    # Combine into a DataFrame\n",
    "    missing_summary = pd.DataFrame({\n",
    "        'Missing Values': missing_values,\n",
    "        'Percent': missing_percent,\n",
    "        'Analysis' : analysis\n",
    "    })\n",
    "\n",
    "    # Sort by the number of missing values\n",
    "    missing_summary = missing_summary.sort_values(by='Missing Values', ascending=False)\n",
    "    \n",
    "    return missing_summary"
   ]
  },
  {
   "cell_type": "markdown",
   "metadata": {},
   "source": [
    "#### 5.2 Missing data on BsmtQual"
   ]
  },
  {
   "cell_type": "code",
   "execution_count": 13,
   "metadata": {},
   "outputs": [],
   "source": [
    "def replace_BsmtQual (df):\n",
    "    df['BsmtQual'] = df['BsmtQual'].fillna('TA')\n",
    "\n",
    "    return df"
   ]
  },
  {
   "cell_type": "markdown",
   "metadata": {},
   "source": [
    "#### 5.3 Missing data on MasVnrArea"
   ]
  },
  {
   "cell_type": "code",
   "execution_count": 14,
   "metadata": {},
   "outputs": [],
   "source": [
    "def replace_MasVnrArea (df):\n",
    "    df['MasVnrArea'] = df['MasVnrArea'].fillna(0)\n",
    "\n",
    "    return df"
   ]
  },
  {
   "cell_type": "markdown",
   "metadata": {},
   "source": [
    "#### 5.4 Missing data on Test_DF"
   ]
  },
  {
   "cell_type": "code",
   "execution_count": 15,
   "metadata": {},
   "outputs": [],
   "source": [
    "def replace_on_test (df):\n",
    "\n",
    "    # Replace categorical missing values with the mode for each column only when is really big the missing\n",
    "    \n",
    "    # Replace numerical missing values\n",
    "    df['GarageCars'] = df['GarageCars'].fillna(0)\n",
    "    df['GarageArea'] = df['GarageArea'].fillna(0)\n",
    "    df['TotalBsmtSF'] = df['TotalBsmtSF'].fillna(df['TotalBsmtSF'].mean())\n",
    "    \n",
    "    return df"
   ]
  },
  {
   "cell_type": "markdown",
   "metadata": {},
   "source": [
    "### 6. Featuring Engineering"
   ]
  },
  {
   "cell_type": "markdown",
   "metadata": {},
   "source": [
    "#### 6.1 Merging supplementary data"
   ]
  },
  {
   "cell_type": "code",
   "execution_count": 16,
   "metadata": {},
   "outputs": [],
   "source": [
    "def add_features_columns (df):\n",
    "    # Add ratios or flags, not arithmethics values\n",
    "\n",
    "    df['Property_Age'] = df['YrSold'] - df['YearBuilt']\n",
    "    df['Years_Remodel'] = df['YrSold'] - df['YearRemodAdd']\n",
    "    df['Has_2nd_Floor'] = (df['2ndFlrSF'] > 0).astype(int)\n",
    "    df['Bedroom_Ratio'] = df['BedroomAbvGr'] / df['TotRmsAbvGrd']\n",
    "    df['Has_Garage'] = df['GarageCars'].apply(lambda x: 1 if x>0 else 0)\n",
    "    df['Large_Garage'] = (df['GarageCars'] >=3).astype(int)\n",
    "\n",
    "    return df"
   ]
  },
  {
   "cell_type": "code",
   "execution_count": 17,
   "metadata": {},
   "outputs": [],
   "source": [
    "def add_factorize_or_encode(X_train, X_valid, X_test, task=\"classification\"):\n",
    "    \"\"\"\n",
    "    Automatically handle categorical features for classification or regression tasks.\n",
    "    Applies encoding consistently across train, validation, and test sets.\n",
    "    \"\"\"\n",
    "    categorical_cols = X_train.select_dtypes(include=['object', 'category']).columns\n",
    "\n",
    "    if task == \"classification\":\n",
    "        if len(categorical_cols) > 0:\n",
    "            print(f\"Encoding categorical columns: {list(categorical_cols)}\")\n",
    "            for col in categorical_cols:\n",
    "                encoder = LabelEncoder()\n",
    "                X_train[col] = encoder.fit_transform(X_train[col].astype(str))\n",
    "                X_valid[col] = encoder.transform(X_valid[col].astype(str))\n",
    "                X_test[col] = encoder.transform(X_test[col].astype(str))\n",
    "\n",
    "    elif task == \"regression\":\n",
    "        if len(categorical_cols) > 0:\n",
    "            print(f\"One-hot encoding categorical columns: {list(categorical_cols)}\")\n",
    "\n",
    "            encoder = OneHotEncoder(drop='first', sparse_output=False, handle_unknown=\"ignore\")\n",
    "\n",
    "            # Fit encoder and transform datasets\n",
    "            X_train_encoded = pd.DataFrame(\n",
    "                encoder.fit_transform(X_train[categorical_cols]),\n",
    "                columns=encoder.get_feature_names_out(categorical_cols),\n",
    "                index=X_train.index\n",
    "            )\n",
    "            X_valid_encoded = pd.DataFrame(\n",
    "                encoder.transform(X_valid[categorical_cols]),\n",
    "                columns=encoder.get_feature_names_out(categorical_cols),\n",
    "                index=X_valid.index\n",
    "            )\n",
    "            X_test_encoded = pd.DataFrame(\n",
    "                encoder.transform(X_test[categorical_cols]),\n",
    "                columns=encoder.get_feature_names_out(categorical_cols),\n",
    "                index=X_test.index\n",
    "            )\n",
    "\n",
    "            # Reindex validation and test sets to match training columns\n",
    "            X_valid_encoded = X_valid_encoded.reindex(columns=X_train_encoded.columns, fill_value=0)\n",
    "            X_test_encoded = X_test_encoded.reindex(columns=X_train_encoded.columns, fill_value=0)\n",
    "\n",
    "            # Drop original categorical columns and concatenate encoded ones\n",
    "            X_train = pd.concat([X_train.drop(columns=categorical_cols), X_train_encoded], axis=1)\n",
    "            X_valid = pd.concat([X_valid.drop(columns=categorical_cols), X_valid_encoded], axis=1)\n",
    "            X_test = pd.concat([X_test.drop(columns=categorical_cols), X_test_encoded], axis=1)\n",
    "\n",
    "            # Ensure no NaN values after encoding\n",
    "            X_train.fillna(0, inplace=True)\n",
    "            X_valid.fillna(0, inplace=True)\n",
    "            X_test.fillna(0, inplace=True)\n",
    "\n",
    "    else:\n",
    "        raise ValueError(\"Invalid task. Please choose 'classification' or 'regression'.\")\n",
    "\n",
    "    return X_train, X_valid, X_test\n"
   ]
  },
  {
   "cell_type": "markdown",
   "metadata": {},
   "source": [
    "#### 6.2 Standarizing the data"
   ]
  },
  {
   "cell_type": "code",
   "execution_count": 18,
   "metadata": {},
   "outputs": [],
   "source": [
    "def discretise_numeric(X_train, X_val, X_test, numeric_cols, no_bins=10, strategy='uniform'):\n",
    "    \"\"\"\n",
    "    Discretizes the specified numeric columns into bins for X_train, X_val, and X_test using KBinsDiscretizer.\n",
    "    The binning is fitted on X_train and then applied to X_val and X_test to avoid data leakage.\n",
    "    Ensures no NaN values by using ordinal encoding.\n",
    "    \n",
    "    Parameters:\n",
    "    - strategy: Binning strategy ('uniform', 'quantile', 'kmeans')\n",
    "    \"\"\"\n",
    "    # Copy inputs to avoid modifying the original datasets\n",
    "    X_train = X_train.copy()\n",
    "    X_val = X_val.copy()\n",
    "    X_test = X_test.copy()\n",
    "    \n",
    "    # Apply KBinsDiscretizer\n",
    "    discretizer = KBinsDiscretizer(n_bins=no_bins, encode='ordinal', strategy=strategy)\n",
    "    \n",
    "    # Fit on X_train\n",
    "    X_train[numeric_cols] = discretizer.fit_transform(X_train[numeric_cols])\n",
    "    \n",
    "    # Transform X_val and X_test using the same discretizer\n",
    "    X_val[numeric_cols] = discretizer.transform(X_val[numeric_cols])\n",
    "    X_test[numeric_cols] = discretizer.transform(X_test[numeric_cols])\n",
    "    \n",
    "    return X_train, X_val, X_test"
   ]
  },
  {
   "cell_type": "code",
   "execution_count": 19,
   "metadata": {},
   "outputs": [],
   "source": [
    "def standardize_values(X_train, X_val, X_test, numeric_cols):\n",
    "    \"\"\"\n",
    "    Standardizes specified numeric columns in X_train, X_val, and X_test.\n",
    "    The scaler is fitted on X_train and applied to X_val and X_test.\n",
    "    \"\"\"\n",
    "    # Ensure inputs are copies to avoid modifying the original datasets\n",
    "    X_train = X_train.copy()\n",
    "    X_val = X_val.copy()\n",
    "    X_test = X_test.copy()\n",
    "\n",
    "    # Initialize the scaler\n",
    "    scaler = StandardScaler()\n",
    "\n",
    "    # Fit the scaler on X_train\n",
    "    scaler.fit(X_train[numeric_cols])\n",
    "\n",
    "    # Transform X_train, X_val and X_test\n",
    "    X_train[numeric_cols] = scaler.transform(X_train[numeric_cols])\n",
    "    X_val[numeric_cols] = scaler.transform(X_val[numeric_cols])\n",
    "    X_test[numeric_cols] = scaler.transform(X_test[numeric_cols])\n",
    "\n",
    "    return X_train, X_val, X_test"
   ]
  },
  {
   "cell_type": "code",
   "execution_count": 20,
   "metadata": {},
   "outputs": [],
   "source": [
    "def equal_dataframes(X_train, X_val, X_test):\n",
    "    \"\"\"\n",
    "    Aligns X_train, X_val, and X_test to have the same columns by adding missing columns\n",
    "    or removing extra columns.\n",
    "    \"\"\"\n",
    "    # Ensure inputs are copies to avoid modifying original data\n",
    "    X_train = X_train.copy()\n",
    "    X_val = X_val.copy()\n",
    "    X_test = X_test.copy()\n",
    "\n",
    "    # Reference columns from X_train\n",
    "    common_columns = X_train.columns\n",
    "\n",
    "    # Add missing columns to X_val and X_test (with default values as 0)\n",
    "    for col in common_columns:\n",
    "        if col not in X_val.columns:\n",
    "            X_val[col] = 0\n",
    "        if col not in X_test.columns:\n",
    "            X_test[col] = 0\n",
    "\n",
    "    # Remove extra columns in X_val and X_test that are not in X_train\n",
    "    X_val = X_val[common_columns]\n",
    "    X_test = X_test[common_columns]\n",
    "\n",
    "    return X_train, X_val, X_test"
   ]
  },
  {
   "cell_type": "code",
   "execution_count": 21,
   "metadata": {},
   "outputs": [],
   "source": [
    "def calculate_vif(df):\n",
    "    \"\"\"\n",
    "    Calculate VIF (Variance Inflation Factor) for each feature in the dataset.\n",
    "    VIF quantifies how much the variance of a predictor is inflated due to multicollinearity with other predictors.\n",
    "    A higher VIF indicates stronger collinearity.\n",
    "\n",
    "    How to Interpret VIF:\n",
    "    VIF < 5: Low multicolinearity, safe to include\n",
    "    VIF 5-10: Moderate multicolinearity, may need attention\n",
    "    VIF > 10: High multicolinearity, consider removing or transforming the numerical column\n",
    "    \"\"\"\n",
    "\n",
    "    vif_data = pd.DataFrame()\n",
    "    numeric_cols = df.select_dtypes(include=[np.number]).columns.to_list()\n",
    "    vif_data[\"numeric_cols\"] = numeric_cols\n",
    "    vif_data[\"VIF\"] = [\n",
    "        variance_inflation_factor(df[numeric_cols].values, i)\n",
    "        for i in range(len(numeric_cols))\n",
    "    ]\n",
    "    \n",
    "    vif_data[\"VIF\"] = vif_data[\"VIF\"].round(2)\n",
    "\n",
    "    vif_data[\"Analysis\"] = vif_data[\"VIF\"].apply(\n",
    "        lambda x: \"Include\" if x < 5 else (\"Check\" if 5 <= x < 10 else \"Delete\")\n",
    "    )\n",
    "\n",
    "    vif_data = vif_data.sort_values(by=\"VIF\", ascending=False).reset_index(drop=True)\n",
    "    \n",
    "    return vif_data"
   ]
  },
  {
   "cell_type": "markdown",
   "metadata": {},
   "source": [
    "#### 6.3 Final features & cleaning selection"
   ]
  },
  {
   "cell_type": "code",
   "execution_count": 22,
   "metadata": {},
   "outputs": [],
   "source": [
    "def pre_clean_df (df, selected_columns):\n",
    "    \n",
    "    #Only to show missing data from selected columns\n",
    "    df = add_features_columns(df)\n",
    "    df = df[selected_columns]\n",
    "    missing_data (df)\n"
   ]
  },
  {
   "cell_type": "code",
   "execution_count": 23,
   "metadata": {},
   "outputs": [],
   "source": [
    "def clean_df (df, selected_columns, drop_columns):\n",
    "    \n",
    "    # Do all the steps together\n",
    "    df = replace_BsmtQual(df)\n",
    "    df = replace_MasVnrArea(df)\n",
    "    df = replace_on_test(df)\n",
    "    df = add_features_columns(df)\n",
    "    df = df[selected_columns]\n",
    "    missing_data (df)\n",
    "    df = df.drop(drop_columns, axis=1)\n",
    "    \n",
    "    return df"
   ]
  },
  {
   "cell_type": "code",
   "execution_count": 24,
   "metadata": {},
   "outputs": [],
   "source": [
    "def binary_columns (df):\n",
    "    binary_cols = df.select_dtypes(include=['number']).columns[\n",
    "        (df.min() == 0) & (df.max() == 1)\n",
    "    ]\n",
    "    return list(binary_cols)"
   ]
  },
  {
   "cell_type": "code",
   "execution_count": 25,
   "metadata": {},
   "outputs": [],
   "source": [
    "def numerical_non_binary_columns (df):\n",
    "    numeric_cols = df.select_dtypes(include=['number'])\n",
    "\n",
    "    non_binary_numeric_cols = numeric_cols.loc[:, ~((numeric_cols.min() == 0) & (numeric_cols.max() == 1))]\n",
    "\n",
    "    return list(non_binary_numeric_cols.columns)"
   ]
  },
  {
   "cell_type": "markdown",
   "metadata": {},
   "source": [
    "### 7. Practice Dataset - Analysis & premodeling work"
   ]
  },
  {
   "cell_type": "code",
   "execution_count": 26,
   "metadata": {},
   "outputs": [
    {
     "name": "stdout",
     "output_type": "stream",
     "text": [
      "                                                  \n",
      "Missing in df:\n",
      "..................................................\n",
      "                                                  \n",
      "Missing in df:\n",
      "..................................................\n",
      "One-hot encoding categorical columns: ['SaleCondition', 'KitchenQual', 'Heating', 'LotShape', 'Foundation', 'MSZoning', 'SaleType', 'Neighborhood', 'LotConfig', 'ExterCond', 'BsmtQual']\n"
     ]
    },
    {
     "name": "stderr",
     "output_type": "stream",
     "text": [
      "d:\\Python\\Python312\\Lib\\site-packages\\sklearn\\preprocessing\\_encoders.py:246: UserWarning: Found unknown categories in columns [2] during transform. These unknown categories will be encoded as all zeros\n",
      "  warnings.warn(\n",
      "d:\\Python\\Python312\\Lib\\site-packages\\sklearn\\preprocessing\\_encoders.py:246: UserWarning: Found unknown categories in columns [1, 5, 6] during transform. These unknown categories will be encoded as all zeros\n",
      "  warnings.warn(\n"
     ]
    }
   ],
   "source": [
    "selected_columns = [\"Id\", \"MSZoning\", \"LotArea\", \"LotShape\", \"LotConfig\", \"Neighborhood\", \"OverallQual\", \"Property_Age\", \"Years_Remodel\", \"MasVnrArea\", \"ExterCond\", \"Foundation\",\n",
    "                     \"BsmtQual\", \"Heating\", \"Has_2nd_Floor\", \"GrLivArea\", \"FullBath\", \"KitchenQual\", \"Bedroom_Ratio\", \"Fireplaces\", \"Has_Garage\", \"Large_Garage\", \"SaleType\",\n",
    "                     \"SaleCondition\"]\n",
    "to_delete_columns = [\"YearBuilt\", \"YearRemodAdd\", \"GarageCars\", 'YrSold']\n",
    "dependent = [\"SalePrice\"]\n",
    "numeric_cols = [cname for cname in train_data.columns if train_data[cname].dtype in ['int64', 'float64'] and cname not in ['SalePrice', 'GarageYrBlt', 'LotFrontage']]\n",
    "\n",
    "selected_columnsx = list(set(selected_columns+to_delete_columns+numeric_cols))\n",
    "\n",
    "# pre_clean_df(train_data, selected_columns + dependent + to_delete_columns)\n",
    "# pre_clean_df(test_data, selected_columns + to_delete_columns)\n",
    "\n",
    "train_data_OL = train_data.drop(train_data[(train_data['GrLivArea']>4000) & (train_data['SalePrice']<300000)].index)\n",
    "train_data_OL.reset_index(inplace=True)\n",
    "\n",
    "X_train_clean = clean_df(train_data_OL, selected_columnsx + dependent, to_delete_columns)\n",
    "X_test_clean = clean_df(test_data, selected_columnsx, to_delete_columns)\n",
    "X_test_clean = X_test_clean.fillna(0)\n",
    "\n",
    "train_numerical = numerical_non_binary_columns(X_train_clean) #Includes SalePrice\n",
    "test_numerical = numerical_non_binary_columns(X_test_clean)\n",
    "\n",
    "X = X_train_clean.drop(['SalePrice'], axis=1)\n",
    "y = X_train_clean.SalePrice\n",
    "\n",
    "X_train, X_val, y_train, y_val = train_test_split(X, y, test_size=0.2, random_state=1)\n",
    "X_train, X_val, X_test_clean = add_factorize_or_encode(X_train, X_val, X_test_clean, task=\"regression\")\n",
    "\n",
    "# Only discretise numerical columns, not binaries\n",
    "X_tr_dn, X_va_dn, X_te_dn = discretise_numeric (X_train, X_val, X_test_clean, numeric_cols=['Property_Age', 'Years_Remodel'])\n",
    "\n",
    "# # Only standarize numerical columns, not discrets, not binaries\n",
    "X_tr_st, X_va_st, X_te_st = standardize_values(X_tr_dn, X_va_dn, X_te_dn, numeric_cols= [col for col in train_numerical if col not in ['SalePrice', 'Id']])\n",
    "train_final, valid_final, test_final = equal_dataframes(X_tr_st, X_va_st, X_te_st)\n",
    "\n",
    "train_final = train_final.set_index('Id')\n",
    "valid_final = valid_final.set_index('Id')\n",
    "test_final = test_final.set_index('Id')"
   ]
  },
  {
   "cell_type": "code",
   "execution_count": 27,
   "metadata": {},
   "outputs": [
    {
     "name": "stderr",
     "output_type": "stream",
     "text": [
      "d:\\Python\\Python312\\Lib\\site-packages\\statsmodels\\stats\\outliers_influence.py:197: RuntimeWarning: divide by zero encountered in scalar divide\n",
      "  vif = 1. / (1. - r_squared_i)\n",
      "d:\\Python\\Python312\\Lib\\site-packages\\statsmodels\\stats\\outliers_influence.py:197: RuntimeWarning: divide by zero encountered in scalar divide\n",
      "  vif = 1. / (1. - r_squared_i)\n",
      "d:\\Python\\Python312\\Lib\\site-packages\\statsmodels\\stats\\outliers_influence.py:197: RuntimeWarning: divide by zero encountered in scalar divide\n",
      "  vif = 1. / (1. - r_squared_i)\n",
      "d:\\Python\\Python312\\Lib\\site-packages\\statsmodels\\stats\\outliers_influence.py:197: RuntimeWarning: divide by zero encountered in scalar divide\n",
      "  vif = 1. / (1. - r_squared_i)\n",
      "d:\\Python\\Python312\\Lib\\site-packages\\statsmodels\\stats\\outliers_influence.py:197: RuntimeWarning: divide by zero encountered in scalar divide\n",
      "  vif = 1. / (1. - r_squared_i)\n",
      "d:\\Python\\Python312\\Lib\\site-packages\\statsmodels\\stats\\outliers_influence.py:197: RuntimeWarning: divide by zero encountered in scalar divide\n",
      "  vif = 1. / (1. - r_squared_i)\n",
      "d:\\Python\\Python312\\Lib\\site-packages\\statsmodels\\stats\\outliers_influence.py:197: RuntimeWarning: divide by zero encountered in scalar divide\n",
      "  vif = 1. / (1. - r_squared_i)\n",
      "d:\\Python\\Python312\\Lib\\site-packages\\statsmodels\\stats\\outliers_influence.py:197: RuntimeWarning: divide by zero encountered in scalar divide\n",
      "  vif = 1. / (1. - r_squared_i)\n"
     ]
    },
    {
     "data": {
      "text/html": [
       "<div>\n",
       "<style scoped>\n",
       "    .dataframe tbody tr th:only-of-type {\n",
       "        vertical-align: middle;\n",
       "    }\n",
       "\n",
       "    .dataframe tbody tr th {\n",
       "        vertical-align: top;\n",
       "    }\n",
       "\n",
       "    .dataframe thead th {\n",
       "        text-align: right;\n",
       "    }\n",
       "</style>\n",
       "<table border=\"1\" class=\"dataframe\">\n",
       "  <thead>\n",
       "    <tr style=\"text-align: right;\">\n",
       "      <th></th>\n",
       "      <th>numeric_cols</th>\n",
       "      <th>VIF</th>\n",
       "      <th>Analysis</th>\n",
       "    </tr>\n",
       "  </thead>\n",
       "  <tbody>\n",
       "    <tr>\n",
       "      <th>0</th>\n",
       "      <td>2ndFlrSF</td>\n",
       "      <td>inf</td>\n",
       "      <td>Delete</td>\n",
       "    </tr>\n",
       "    <tr>\n",
       "      <th>1</th>\n",
       "      <td>LowQualFinSF</td>\n",
       "      <td>inf</td>\n",
       "      <td>Delete</td>\n",
       "    </tr>\n",
       "    <tr>\n",
       "      <th>2</th>\n",
       "      <td>BsmtFinSF2</td>\n",
       "      <td>inf</td>\n",
       "      <td>Delete</td>\n",
       "    </tr>\n",
       "    <tr>\n",
       "      <th>3</th>\n",
       "      <td>BsmtUnfSF</td>\n",
       "      <td>inf</td>\n",
       "      <td>Delete</td>\n",
       "    </tr>\n",
       "    <tr>\n",
       "      <th>4</th>\n",
       "      <td>BsmtFinSF1</td>\n",
       "      <td>inf</td>\n",
       "      <td>Delete</td>\n",
       "    </tr>\n",
       "    <tr>\n",
       "      <th>5</th>\n",
       "      <td>TotalBsmtSF</td>\n",
       "      <td>inf</td>\n",
       "      <td>Delete</td>\n",
       "    </tr>\n",
       "    <tr>\n",
       "      <th>6</th>\n",
       "      <td>GrLivArea</td>\n",
       "      <td>inf</td>\n",
       "      <td>Delete</td>\n",
       "    </tr>\n",
       "    <tr>\n",
       "      <th>7</th>\n",
       "      <td>1stFlrSF</td>\n",
       "      <td>inf</td>\n",
       "      <td>Delete</td>\n",
       "    </tr>\n",
       "    <tr>\n",
       "      <th>8</th>\n",
       "      <td>TotRmsAbvGrd</td>\n",
       "      <td>83.49</td>\n",
       "      <td>Delete</td>\n",
       "    </tr>\n",
       "    <tr>\n",
       "      <th>9</th>\n",
       "      <td>OverallQual</td>\n",
       "      <td>58.79</td>\n",
       "      <td>Delete</td>\n",
       "    </tr>\n",
       "    <tr>\n",
       "      <th>10</th>\n",
       "      <td>SalePrice</td>\n",
       "      <td>45.52</td>\n",
       "      <td>Delete</td>\n",
       "    </tr>\n",
       "    <tr>\n",
       "      <th>11</th>\n",
       "      <td>KitchenAbvGr</td>\n",
       "      <td>33.61</td>\n",
       "      <td>Delete</td>\n",
       "    </tr>\n",
       "    <tr>\n",
       "      <th>12</th>\n",
       "      <td>BedroomAbvGr</td>\n",
       "      <td>32.38</td>\n",
       "      <td>Delete</td>\n",
       "    </tr>\n",
       "    <tr>\n",
       "      <th>13</th>\n",
       "      <td>OverallCond</td>\n",
       "      <td>31.43</td>\n",
       "      <td>Delete</td>\n",
       "    </tr>\n",
       "    <tr>\n",
       "      <th>14</th>\n",
       "      <td>FullBath</td>\n",
       "      <td>25.42</td>\n",
       "      <td>Delete</td>\n",
       "    </tr>\n",
       "    <tr>\n",
       "      <th>15</th>\n",
       "      <td>GarageArea</td>\n",
       "      <td>10.95</td>\n",
       "      <td>Delete</td>\n",
       "    </tr>\n",
       "    <tr>\n",
       "      <th>16</th>\n",
       "      <td>Property_Age</td>\n",
       "      <td>10.26</td>\n",
       "      <td>Delete</td>\n",
       "    </tr>\n",
       "  </tbody>\n",
       "</table>\n",
       "</div>"
      ],
      "text/plain": [
       "    numeric_cols    VIF Analysis\n",
       "0       2ndFlrSF    inf   Delete\n",
       "1   LowQualFinSF    inf   Delete\n",
       "2     BsmtFinSF2    inf   Delete\n",
       "3      BsmtUnfSF    inf   Delete\n",
       "4     BsmtFinSF1    inf   Delete\n",
       "5    TotalBsmtSF    inf   Delete\n",
       "6      GrLivArea    inf   Delete\n",
       "7       1stFlrSF    inf   Delete\n",
       "8   TotRmsAbvGrd  83.49   Delete\n",
       "9    OverallQual  58.79   Delete\n",
       "10     SalePrice  45.52   Delete\n",
       "11  KitchenAbvGr  33.61   Delete\n",
       "12  BedroomAbvGr  32.38   Delete\n",
       "13   OverallCond  31.43   Delete\n",
       "14      FullBath  25.42   Delete\n",
       "15    GarageArea  10.95   Delete\n",
       "16  Property_Age  10.26   Delete"
      ]
     },
     "execution_count": 27,
     "metadata": {},
     "output_type": "execute_result"
    }
   ],
   "source": [
    "# Analyze VIF to test Multicollinearity among predictors\n",
    "vif_results = calculate_vif(X_train_clean[numerical_non_binary_columns(X_train_clean)])\n",
    "vif_results[vif_results['Analysis'] == 'Delete'] #--> Remove columns that have inf VIF, this means that there is perfect multicollinearity\n"
   ]
  },
  {
   "cell_type": "code",
   "execution_count": 79,
   "metadata": {},
   "outputs": [],
   "source": [
    "corr_matrix = correlation_analysis_type (train_final, y_train, \"regression\", graphic='no', threshold=0.4, numeric_cols=numerical_non_binary_columns(train_final))"
   ]
  },
  {
   "cell_type": "code",
   "execution_count": null,
   "metadata": {},
   "outputs": [],
   "source": []
  },
  {
   "cell_type": "markdown",
   "metadata": {},
   "source": [
    "### 8. Prediction and Submission"
   ]
  },
  {
   "cell_type": "code",
   "execution_count": 28,
   "metadata": {},
   "outputs": [
    {
     "name": "stdout",
     "output_type": "stream",
     "text": [
      "MSE: 526796053.8 \n",
      "MAE: 15677.68\n"
     ]
    }
   ],
   "source": [
    "# Initialize the model with the best parameters\n",
    "best_model = LGBMRegressor(n_estimators=100, max_depth=15, learning_rate=0.05, random_state=42, early_stopping_rounds=5, verbosity=-1, num_leaves=31, colsample_bytree=0.8) #Best option\n",
    "\n",
    "# Fit the model on the full training dataset\n",
    "best_model.fit(train_final, y_train, eval_set=[(valid_final, y_val)]) #LGBM\n",
    "\n",
    "# Predict on the valid data\n",
    "predictions = best_model.predict(valid_final).astype('float').round(2)\n",
    "\n",
    "MSE = round(mean_squared_error(y_val, predictions),2)\n",
    "\n",
    "MAE = round(mean_absolute_error(y_val, predictions),2)\n",
    "\n",
    "print(f'MSE: {MSE} \\nMAE: {MAE}')"
   ]
  },
  {
   "cell_type": "code",
   "execution_count": 29,
   "metadata": {},
   "outputs": [
    {
     "name": "stdout",
     "output_type": "stream",
     "text": [
      "Done\n"
     ]
    }
   ],
   "source": [
    "# Predict on the test data\n",
    "predictions = best_model.predict(test_final).astype('float').round(2)\n",
    "\n",
    "# Export to .csv file\n",
    "output = pd.DataFrame({'Id': test_final.index, 'SalePrice': predictions})\n",
    "output.to_csv('submission.csv', index=False)\n",
    "print('Done')"
   ]
  }
 ],
 "metadata": {
  "kernelspec": {
   "display_name": "Python 3",
   "language": "python",
   "name": "python3"
  },
  "language_info": {
   "codemirror_mode": {
    "name": "ipython",
    "version": 3
   },
   "file_extension": ".py",
   "mimetype": "text/x-python",
   "name": "python",
   "nbconvert_exporter": "python",
   "pygments_lexer": "ipython3",
   "version": "3.12.4"
  }
 },
 "nbformat": 4,
 "nbformat_minor": 2
}
